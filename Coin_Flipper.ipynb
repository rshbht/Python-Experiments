{
  "nbformat": 4,
  "nbformat_minor": 0,
  "metadata": {
    "colab": {
      "provenance": []
    },
    "kernelspec": {
      "name": "python3",
      "display_name": "Python 3"
    },
    "language_info": {
      "name": "python"
    }
  },
  "cells": [
    {
      "cell_type": "code",
      "source": [
        "import random\n",
        "\n",
        "# Get user input for number of coin flips\n",
        "num_flips = int(input(\"How many times do you want to flip the coin? \"))\n",
        "\n",
        "# Define the possible outcomes of a coin flip\n",
        "coin_sides = [\"Heads\", \"Tails\"]\n",
        "\n",
        "# Perform the specified number of coin flips and count the results\n",
        "heads_count = 0\n",
        "tails_count = 0\n",
        "\n",
        "for i in range(num_flips):\n",
        "    result = random.choice(coin_sides)\n",
        "    if result == \"Heads\":\n",
        "        heads_count += 1\n",
        "    else:\n",
        "        tails_count += 1\n",
        "\n",
        "# Print the results of the coin flips\n",
        "print(f\"The coin was flipped {num_flips} times.\")\n",
        "print(f\"Heads: {heads_count}\")\n",
        "print(f\"Tails: {tails_count}\")\n"
      ],
      "metadata": {
        "id": "s-MF43oo7ySa"
      },
      "execution_count": null,
      "outputs": []
    }
  ]
}