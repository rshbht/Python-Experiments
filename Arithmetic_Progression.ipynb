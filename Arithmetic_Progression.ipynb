{
  "nbformat": 4,
  "nbformat_minor": 0,
  "metadata": {
    "colab": {
      "provenance": []
    },
    "kernelspec": {
      "name": "python3",
      "display_name": "Python 3"
    },
    "language_info": {
      "name": "python"
    }
  },
  "cells": [
    {
      "cell_type": "code",
      "source": [
        "# Ask the user for the value of n and the first term and the common difference\n",
        "n = int(input(\"Enter the number of terms in the Arithmetic Progression: \"))\n",
        "first_term = float(input(\"Enter the first term of the Arithmetic Progression: \"))\n",
        "common_diff = float(input(\"Enter the common difference of the Arithmetic Progression: \"))\n",
        "\n",
        "# Initialize an empty list to store the sequence\n",
        "ap_seq = []\n",
        "\n",
        "# Generate the terms of the sequence using a loop\n",
        "for i in range(n):\n",
        "    # Add the common difference to the previous term to get the current term\n",
        "    current_term = first_term + i * common_diff\n",
        "    ap_seq.append(current_term)\n",
        "\n",
        "# Print the sequence\n",
        "print(\"The Arithmetic Progression with\", n, \"terms, first term\", first_term, \"and common difference\", common_diff, \"is:\", ap_seq)\n"
      ],
      "metadata": {
        "id": "RYdeSczNkf_x"
      },
      "execution_count": null,
      "outputs": []
    }
  ]
}