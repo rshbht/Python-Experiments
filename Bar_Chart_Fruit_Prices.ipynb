{
  "nbformat": 4,
  "nbformat_minor": 0,
  "metadata": {
    "colab": {
      "provenance": []
    },
    "kernelspec": {
      "name": "python3",
      "display_name": "Python 3"
    },
    "language_info": {
      "name": "python"
    }
  },
  "cells": [
    {
      "cell_type": "code",
      "source": [
        "import matplotlib.pyplot as plt\n",
        "\n",
        "# Get user input for data\n",
        "num_items = int(input(\"Enter the number of types of fruits: \"))\n",
        "names = []\n",
        "values = []\n",
        "for i in range(num_items):\n",
        "    name = input(f\"Enter name for fruit {i+1}: \")\n",
        "    value = float(input(f\"Enter value for {name}: \"))\n",
        "    names.append(name)\n",
        "    values.append(value)\n",
        "\n",
        "# Create bar chart\n",
        "fig, ax = plt.subplots()\n",
        "\n",
        "# Set y-axis labels as names\n",
        "y_pos = range(len(names))\n",
        "ax.set_yticks(y_pos)\n",
        "ax.set_yticklabels(names)\n",
        "\n",
        "# Set x-axis label and limits\n",
        "ax.set_xlabel('Values')\n",
        "ax.set_xlim([0, max(values)*1.1])\n",
        "\n",
        "# Create horizontal bars\n",
        "ax.barh(y_pos, values)\n",
        "\n",
        "# Add values as labels on bars\n",
        "for i, v in enumerate(values):\n",
        "    ax.text(v + max(values)*0.02, i, f'{v:.2f}', va='center')\n",
        "\n",
        "# Set title based on user input\n",
        "title = input(\"Enter title for chart: \")\n",
        "ax.set_title(title)\n",
        "\n",
        "plt.show()"
      ],
      "metadata": {
        "id": "f_egL-40KsUa"
      },
      "execution_count": null,
      "outputs": []
    }
  ]
}