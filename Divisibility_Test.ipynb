{
  "nbformat": 4,
  "nbformat_minor": 0,
  "metadata": {
    "colab": {
      "provenance": []
    },
    "kernelspec": {
      "name": "python3",
      "display_name": "Python 3"
    },
    "language_info": {
      "name": "python"
    }
  },
  "cells": [
    {
      "cell_type": "code",
      "source": [
        "# Take user input for the number to be tested and the divisor\n",
        "num = int(input(\"Enter a number to be tested: \"))\n",
        "divisor = int(input(\"Enter a divisor: \"))\n",
        "\n",
        "# Check if num is divisible by divisor\n",
        "if num % divisor == 0:\n",
        "    print(num, \"is divisible by\", divisor)\n",
        "else:\n",
        "    print(num, \"is not divisible by\", divisor)\n"
      ],
      "metadata": {
        "id": "knQDu79WSmt5"
      },
      "execution_count": null,
      "outputs": []
    }
  ]
}