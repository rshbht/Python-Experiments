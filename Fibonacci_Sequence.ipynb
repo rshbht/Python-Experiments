{
  "nbformat": 4,
  "nbformat_minor": 0,
  "metadata": {
    "colab": {
      "provenance": []
    },
    "kernelspec": {
      "name": "python3",
      "display_name": "Python 3"
    },
    "language_info": {
      "name": "python"
    }
  },
  "cells": [
    {
      "cell_type": "code",
      "source": [
        "# Ask the user for the value of n\n",
        "n = int(input(\"Enter the number of terms you want in the Fibonacci sequence: \"))\n",
        "\n",
        "# Initialize the first two terms of the sequence\n",
        "fib_seq = [0, 1]\n",
        "\n",
        "# Generate the remaining terms of the sequence using a loop\n",
        "for i in range(2, n):\n",
        "    # Add the previous two terms to get the current term\n",
        "    fib_seq.append(fib_seq[i-1] + fib_seq[i-2])\n",
        "\n",
        "# Print the sequence\n",
        "print(\"The Fibonacci sequence up to the\", n, \"th term is:\", fib_seq)\n"
      ],
      "metadata": {
        "id": "X1G8F11QjTvM"
      },
      "execution_count": null,
      "outputs": []
    }
  ]
}