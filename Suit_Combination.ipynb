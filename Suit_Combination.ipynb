{
  "nbformat": 4,
  "nbformat_minor": 0,
  "metadata": {
    "colab": {
      "provenance": []
    },
    "kernelspec": {
      "name": "python3",
      "display_name": "Python 3"
    },
    "language_info": {
      "name": "python"
    }
  },
  "cells": [
    {
      "cell_type": "code",
      "source": [
        "import random\n",
        "\n",
        "# Define lists of colors for shirts, pants, blazers, and ties\n",
        "shirt_colors = ['white', 'light blue', 'pink', 'lavender', 'peach', 'yellow']\n",
        "pant_colors = ['navy', 'grey', 'black', 'khaki', 'olive', 'charcoal']\n",
        "blazer_colors = ['navy', 'grey', 'black', 'brown', 'olive', 'charcoal']\n",
        "tie_colors = ['red', 'blue', 'green', 'yellow', 'purple', 'orange']\n",
        "\n",
        "# Randomly select a color from each list\n",
        "shirt_color = random.choice(shirt_colors)\n",
        "pant_color = random.choice(pant_colors)\n",
        "blazer_color = random.choice(blazer_colors)\n",
        "tie_color = random.choice(tie_colors)\n",
        "\n",
        "# Print out the suggested color combination\n",
        "print(\"Here's a suggested color combination for your suit:\")\n",
        "print(f\"Shirt: {shirt_color}\")\n",
        "print(f\"Pants: {pant_color}\")\n",
        "print(f\"Blazer: {blazer_color}\")\n",
        "print(f\"Tie: {tie_color}\")\n"
      ],
      "metadata": {
        "colab": {
          "base_uri": "https://localhost:8080/"
        },
        "id": "av2vBoRVCaKS",
        "outputId": "2ae182ad-5756-4657-b50a-e4b925c9e163"
      },
      "execution_count": 18,
      "outputs": [
        {
          "output_type": "stream",
          "name": "stdout",
          "text": [
            "Here's a suggested color combination for your suit:\n",
            "Shirt: yellow\n",
            "Pants: navy\n",
            "Blazer: grey\n",
            "Tie: yellow\n"
          ]
        }
      ]
    }
  ]
}