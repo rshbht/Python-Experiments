{
  "nbformat": 4,
  "nbformat_minor": 0,
  "metadata": {
    "colab": {
      "provenance": []
    },
    "kernelspec": {
      "name": "python3",
      "display_name": "Python 3"
    },
    "language_info": {
      "name": "python"
    }
  },
  "cells": [
    {
      "cell_type": "code",
      "source": [
        "def is_prime(number):\n",
        "    \"\"\"\n",
        "    Determines whether a given number is a prime number.\n",
        "\n",
        "    Parameters:\n",
        "    number (int): the number to check\n",
        "\n",
        "    Returns:\n",
        "    bool: True if the number is prime, False otherwise\n",
        "    \"\"\"\n",
        "    if number <= 1:\n",
        "        return False\n",
        "\n",
        "    # Check if the number is divisible by any number from 2 to its square root\n",
        "    for i in range(2, int(number ** 0.5) + 1):\n",
        "        if number % i == 0:\n",
        "            return False\n",
        "\n",
        "    return True\n",
        "\n",
        "# Ask the user to input a number\n",
        "number = int(input(\"Enter a number: \"))\n",
        "\n",
        "# Check if the number is prime\n",
        "if is_prime(number):\n",
        "    print(number, \"is a prime number\")\n",
        "else:\n",
        "    print(number, \"is not a prime number\")\n"
      ],
      "metadata": {
        "id": "s5g94BlerUA5"
      },
      "execution_count": null,
      "outputs": []
    }
  ]
}