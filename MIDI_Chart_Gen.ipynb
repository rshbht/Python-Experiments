{
  "nbformat": 4,
  "nbformat_minor": 0,
  "metadata": {
    "colab": {
      "provenance": []
    },
    "kernelspec": {
      "name": "python3",
      "display_name": "Python 3"
    },
    "language_info": {
      "name": "python"
    }
  },
  "cells": [
    {
      "cell_type": "code",
      "source": [
        "import music21\n",
        "\n",
        "# Load the MIDI file\n",
        "midi_file = music21.converter.parse(\"path/to/midi/file.mid\")\n",
        "\n",
        "# Extract the notes and chords\n",
        "notes_to_parse = None\n",
        "parts = music21.instrument.partitionByInstrument(midi_file)\n",
        "if parts:\n",
        "    notes_to_parse = parts.parts[0].recurse()\n",
        "else:\n",
        "    notes_to_parse = midi_file.flat.notes\n",
        "\n",
        "# Create a new score\n",
        "score = music21.stream.Score()\n",
        "\n",
        "# Add the notes and chords to the score\n",
        "current_part = music21.stream.Part()\n",
        "for element in notes_to_parse:\n",
        "    if isinstance(element, music21.note.Note):\n",
        "        current_part.append(element)\n",
        "    elif isinstance(element, music21.chord.Chord):\n",
        "        current_part.append(element)\n",
        "\n",
        "# Add the part to the score\n",
        "score.insert(0, current_part)\n",
        "\n",
        "# Show the score\n",
        "score.show()\n"
      ],
      "metadata": {
        "id": "2ityP6_XL2lm"
      },
      "execution_count": null,
      "outputs": []
    }
  ]
}