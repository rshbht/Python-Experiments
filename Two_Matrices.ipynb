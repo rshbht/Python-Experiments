{
  "nbformat": 4,
  "nbformat_minor": 0,
  "metadata": {
    "colab": {
      "provenance": []
    },
    "kernelspec": {
      "name": "python3",
      "display_name": "Python 3"
    },
    "language_info": {
      "name": "python"
    }
  },
  "cells": [
    {
      "cell_type": "code",
      "source": [
        "# Import the NumPy library\n",
        "import numpy as np\n",
        "\n",
        "# Define the dimensions of the matrices\n",
        "rows = 3\n",
        "cols = 3\n",
        "\n",
        "# Create the first matrix\n",
        "matrix1 = np.random.rand(rows, cols)\n",
        "\n",
        "# Create the second matrix\n",
        "matrix2 = np.zeros((rows, cols))\n",
        "\n",
        "# Apply arithmetic operations on the matrices\n",
        "matrix_sum = matrix1 + matrix2\n",
        "matrix_diff = matrix1 - matrix2\n",
        "matrix_product = matrix1 * matrix2\n",
        "matrix_quotient = np.divide(matrix1, matrix2)\n",
        "\n",
        "# Print the results\n",
        "print(\"Matrix 1:\\n\", matrix1)\n",
        "print(\"Matrix 2:\\n\", matrix2)\n",
        "print(\"Matrix Sum:\\n\", matrix_sum)\n",
        "print(\"Matrix Difference:\\n\", matrix_diff)\n",
        "print(\"Matrix Product:\\n\", matrix_product)\n",
        "print(\"Matrix Quotient:\\n\", matrix_quotient)"
      ],
      "metadata": {
        "id": "LMO9Jswtinpv"
      },
      "execution_count": null,
      "outputs": []
    }
  ]
}